{
 "cells": [
  {
   "cell_type": "markdown",
   "metadata": {},
   "source": [
    "### Litho 1.0 global sampling\n",
    "\n",
    "Here we show how to extract information on depths of particular interfaces in the model at any point and the mechanism by which this is\n",
    "implemented in the wrapper.\n",
    "\n",
    "We also demonstrate the mechanism to query a depth profile at any lon/lat location and therefore how to construct a depth profile along\n",
    "a great circle.\n",
    "\n"
   ]
  },
  {
   "cell_type": "code",
   "execution_count": 1,
   "metadata": {},
   "outputs": [],
   "source": [
    "import litho1pt0 as litho\n",
    "from pprint import pprint as pprint\n",
    "import numpy as np\n",
    "\n",
    "%matplotlib inline\n",
    "\n",
    "import matplotlib.pyplot as plt\n",
    "import cartopy\n",
    "import cartopy.crs as ccrs\n",
    "import pyproj\n",
    "\n",
    "import stripy\n"
   ]
  },
  {
   "cell_type": "code",
   "execution_count": 2,
   "metadata": {},
   "outputs": [
    {
     "name": "stdout",
     "output_type": "stream",
     "text": [
      "' Layer keys'\n",
      "odict_items([('ASTHENO-TOP', 0), ('LID-BOTTOM', 1), ('LID-TOP', 2), ('CRUST3-BOTTOM', 3), ('CRUST3-TOP', 4), ('CRUST2-BOTTOM', 5), ('CRUST2-TOP', 6), ('CRUST1-BOTTOM', 7), ('CRUST1-TOP', 8), ('SEDS3-BOTTOM', 9), ('SEDS3-TOP', 10), ('SEDS2-BOTTOM', 11), ('SEDS2-TOP', 12), ('SEDS1-BOTTOM', 13), ('SEDS1-TOP', 14), ('WATER-BOTTOM', 15), ('WATER-TOP', 16), ('ICE-BOTTOM', 17), ('ICE-TOP', 18)])\n",
      "' Value keys'\n",
      "odict_items([('DEPTH', 0), ('DENSITY', 1), ('VP', 2), ('VS', 3), ('QKAPPA', 4), ('QMU', 5), ('VP2', 6), ('VS2', 7), ('ETA', 8)])\n"
     ]
    }
   ],
   "source": [
    "pprint(\" Layer keys\")\n",
    "pprint( litho.l1_layer_decode.items() )\n",
    "pprint(\" Value keys\")\n",
    "pprint( litho.l1_data_decode.items() )"
   ]
  },
  {
   "cell_type": "code",
   "execution_count": 4,
   "metadata": {},
   "outputs": [
    {
     "name": "stdout",
     "output_type": "stream",
     "text": [
      "[8 6 2 0]\n",
      "[6454 6663 8127 7965]\n"
     ]
    }
   ],
   "source": [
    "lats = np.array([0,0,0,0])\n",
    "lons = np.array([10,10,10,10])\n",
    "depths = np.array([1, 20, 100, 1000 ])\n",
    "\n",
    "\n",
    "C, Vp = litho.property_at_lat_lon_depth_points(lats, lons, depths, quantity_ID='VP')\n",
    "\n",
    "print (C)\n",
    "print (Vp)"
   ]
  },
  {
   "cell_type": "code",
   "execution_count": null,
   "metadata": {},
   "outputs": [],
   "source": [
    "## Checking the integrity \n",
    "\n",
    "nlayers = len(litho.l1_layer_decode)\n",
    "layer_depths     = np.empty((nlayers, lats.shape[0]))\n",
    "layer_properties = np.empty((nlayers, lats.shape[0]))\n",
    "\n",
    "for i in range(0, nlayers, 1 ):   \n",
    "    layer_depths[i], err =  litho._interpolator.interpolate(lons * np.pi / 180.0, lats * np.pi / 180.0, \n",
    "                                                  litho._litho_data[i,litho.l1_data_decode[\"DEPTH\"]], order=1)\n",
    "      \n",
    "    layer_properties[i], err = litho._interpolator.interpolate( lons * np.pi / 180.0, lats * np.pi / 180.0,\n",
    "                                          litho._litho_data[i,litho.l1_data_decode[\"DENSITY\"]], order=1)\n",
    "\n",
    "\n",
    "print (layer_depths)\n",
    "print (layer_properties)"
   ]
  },
  {
   "cell_type": "code",
   "execution_count": null,
   "metadata": {},
   "outputs": [],
   "source": [
    "## make a global raster of some quantity\n",
    "\n",
    "lonv, latv = np.meshgrid(np.linspace(-180,180,360), np.linspace(-90,90,180), sparse=False, indexing='xy')\n",
    "\n",
    "l1 = litho.layer_depth(latv, lonv, \"LID-BOTTOM\")\n",
    "l2 = litho.layer_depth(latv, lonv, \"LID-TOP\")\n",
    "\n",
    "lthickness = (l1 - l2)*0.001\n",
    "\n",
    "l1 = litho.layer_depth(latv, lonv, \"CRUST3-BOTTOM\")\n",
    "l2 = litho.layer_depth(latv, lonv, \"CRUST1-TOP\")\n",
    "\n",
    "cthickness = (l1 - l2)*0.001\n",
    "\n",
    "# density at 1km depth\n",
    "depths = np.ones_like(lonv, dtype=np.float)*5.0\n",
    "\n",
    "ids, density_at_1km = litho.property_at_lat_lon_depth_points(latv, lonv, depths, quantity_ID=\"DENSITY\")\n"
   ]
  },
  {
   "cell_type": "code",
   "execution_count": null,
   "metadata": {},
   "outputs": [],
   "source": [
    "%matplotlib inline\n",
    "\n",
    "import cartopy\n",
    "import gdal\n",
    "import cartopy.crs as ccrs\n",
    "import matplotlib.pyplot as plt\n",
    "\n",
    "projection1 = ccrs.Orthographic(central_longitude=140.0, central_latitude=0.0, globe=None)\n",
    "projection2 = ccrs.Mollweide(central_longitude=0)\n",
    "base_projection = ccrs.PlateCarree()\n",
    "\n",
    "global_extent     = [-180.0, 180.0, -90.0, 90.0]\n",
    "\n",
    "\n",
    "fig = plt.figure(figsize=(12, 12), facecolor=\"none\")\n",
    "ax  = plt.subplot(111, projection=projection2)\n",
    "ax.coastlines()\n",
    "ax.set_global()\n",
    "\n",
    "m = ax.imshow(density_at_1km.reshape(-1,360), origin='lower', transform=base_projection,\n",
    "              extent=global_extent, zorder=0, cmap=\"Blues\")\n",
    "\n",
    "plt.colorbar(mappable=m, orientation=\"horizontal\", shrink=0.5)\n",
    "\n"
   ]
  },
  {
   "cell_type": "code",
   "execution_count": null,
   "metadata": {},
   "outputs": [],
   "source": [
    "def great_circle_profile(startlonlat, endlonlat, depths, resolution, QID):\n",
    "    \"\"\"\n",
    "    model: self\n",
    "    ll0: (lon0, lat0)\n",
    "    ll1: (lon1, lat1)\n",
    "    depths (km)\n",
    "    resolution: separation (km) of locations to sample along the profile\n",
    "    \"\"\"\n",
    "   \n",
    "    import stripy\n",
    "\n",
    "    lons, lats = great_circle_Npoints(np.radians(startlonlat), np.radians(endlonlat), 1000)\n",
    "    \n",
    "    ## Would be useful to have distance measure here to map resolutions ... \n",
    "    \n",
    "    data = np.empty( (lons.shape[0], depths.shape[0]))\n",
    "    \n",
    "    for s, ll in enumerate(lons):\n",
    "        c, profile = litho.property_on_depth_profile(np.degrees(lats[s]), np.degrees(lons[s]), depths, QID)   \n",
    "        data[s,:] = profile[:]\n",
    "    \n",
    "    \n",
    "    return np.degrees(lons), np.degrees(lats), data\n",
    "    \n",
    "    \n",
    "    \n",
    "def great_circle_Npoints(lonlat1, lonlat2, N):\n",
    "    \"\"\"\n",
    "    N points along the line joining lonlat1 and lonlat2\n",
    "    \"\"\" \n",
    "\n",
    "    ratio = np.linspace(0.0,1.0, N).reshape(-1,1)\n",
    "    \n",
    "    lonlat1r = np.radians(lonlat1)\n",
    "    lonlat2r = np.radians(lonlat2)\n",
    "\n",
    "    \n",
    "    xyz1 = stripy.spherical.lonlat2xyz(lonlat1r[0], lonlat1r[1])\n",
    "    xyz2 = stripy.spherical.lonlat2xyz(lonlat2r[0], lonlat2r[1])\n",
    "    \n",
    "    mids = ratio * xyz2 + (1.0-ratio) * xyz1\n",
    "    norm = (mids**2).sum(axis=1)\n",
    "    xyzN = mids / norm.reshape(-1,1)\n",
    "    \n",
    "    lonlatN = stripy.spherical.xyz2lonlat( xyzN[:,0], xyzN[:,1], xyzN[:,2])\n",
    "    \n",
    "    return np.degrees(lonlatN)\n",
    "\n",
    "\n",
    "    "
   ]
  },
  {
   "cell_type": "code",
   "execution_count": null,
   "metadata": {
    "scrolled": true
   },
   "outputs": [],
   "source": [
    "depths = np.linspace(-10.0, 250, 100)\n",
    "startlonlat=np.array([80.0,5.0])\n",
    "endlonlat  =np.array([80.0,45.0])\n",
    "midlonlat  = 0.5 * (startlonlat+endlonlat)\n",
    "\n",
    "lons, lats, d = great_circle_profile(startlonlat, endlonlat, depths, 2.5, \"DENSITY\")"
   ]
  },
  {
   "cell_type": "code",
   "execution_count": null,
   "metadata": {},
   "outputs": [],
   "source": [
    "fig = plt.figure(figsize=(7, 7), facecolor=\"none\")\n",
    "\n",
    "ax  = plt.subplot(111, projection=ccrs.Orthographic(central_latitude=midlonlat[1], central_longitude=midlonlat[0]))\n",
    "ax.set_global()\n",
    "\n",
    "ax.add_feature(cartopy.feature.OCEAN, alpha=1.0, facecolor=\"#BBBBBB\", zorder=0)\n",
    "ax.scatter(lons, lats, transform=ccrs.Geodetic(), zorder=100)\n",
    "\n",
    "ax.coastlines()\n"
   ]
  },
  {
   "cell_type": "code",
   "execution_count": null,
   "metadata": {
    "scrolled": true
   },
   "outputs": [],
   "source": [
    "\n",
    "# Compute some properties about the profile line itself\n",
    "\n",
    "drange = depths[-1] - depths[0]\n",
    "\n",
    "#\n",
    "# Cross section\n",
    "#\n",
    "\n",
    "fig = plt.figure(figsize=(12, 12), facecolor=\"none\")\n",
    "ax  = plt.subplot(211)\n",
    "ax2 = plt.subplot(212, projection=ccrs.Orthographic(central_latitude=midlonlat[1], \n",
    "                                                    central_longitude=midlonlat[0]))\n",
    "\n",
    "image = d[:,:]\n",
    "m1 = ax.imshow(image.T, origin=\"upper\", cmap=\"plasma\", aspect=5.0, vmin=2000, vmax=3000)\n",
    "\n",
    "plt.colorbar(mappable=m1, )\n",
    "\n",
    "\n",
    "#\n",
    "# Map / cross section\n",
    "#\n",
    "\n",
    "ax2.set_global()\n",
    "global_extent     = [-180.0, 180.0, -90.0, 90.0]\n",
    "m = ax2.imshow(cthickness, origin='lower', transform=ccrs.PlateCarree(),\n",
    "              extent=global_extent, zorder=0, cmap=\"Oranges\")\n",
    "\n",
    "\n",
    "ax2.add_feature(cartopy.feature.OCEAN, alpha=0.25, facecolor=\"#BBBBBB\")\n",
    "ax2.coastlines()\n",
    "\n",
    "lonr, latr = great_circle_Npoints(np.radians(startlonlat), np.radians(endlonlat), 10)\n",
    "ptslo  = np.degrees(lonr)\n",
    "ptsla  = np.degrees(latr)\n",
    "\n",
    "ax2.scatter (ptslo, ptsla, marker=\"+\", s=100, transform=ccrs.Geodetic(), zorder=101)\n"
   ]
  },
  {
   "cell_type": "code",
   "execution_count": null,
   "metadata": {},
   "outputs": [],
   "source": []
  },
  {
   "cell_type": "code",
   "execution_count": null,
   "metadata": {},
   "outputs": [],
   "source": []
  }
 ],
 "metadata": {
  "kernelspec": {
   "display_name": "Python 3",
   "language": "python",
   "name": "python3"
  },
  "language_info": {
   "codemirror_mode": {
    "name": "ipython",
    "version": 3
   },
   "file_extension": ".py",
   "mimetype": "text/x-python",
   "name": "python",
   "nbconvert_exporter": "python",
   "pygments_lexer": "ipython3",
   "version": "3.7.2"
  }
 },
 "nbformat": 4,
 "nbformat_minor": 2
}
