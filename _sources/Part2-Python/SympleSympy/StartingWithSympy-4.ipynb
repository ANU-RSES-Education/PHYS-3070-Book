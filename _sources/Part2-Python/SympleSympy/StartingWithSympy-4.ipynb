{
 "cells": [
  {
   "cell_type": "markdown",
   "metadata": {},
   "source": [
    "# The biharmonic equation for Stokes flow\n",
    "\n",
    "$$\\nabla^4 \\psi = -{\\rm Ra} \\frac{\\partial T}{\\partial x_1}$$\n",
    "   \n",
    "\n",
    "$$\\nabla^4 \\equiv \\nabla^2 ( \\nabla ^2) \\equiv \n",
    "                    \\left( \\frac{\\partial ^4}{\\partial x_1^4} + \n",
    "                    \\frac{\\partial ^2}{\\partial x_1^2} \\frac{\\partial ^2}{\\partial x_2^2} +\n",
    "                    \\frac{\\partial ^4}{\\partial x_2^4} \\right)$$ \n",
    "                    \n",
    "                    \n",
    "\n",
    "Solutions take the form:\n",
    "\n",
    "$ \\psi_0 = \\sin 2πx \\cosh 2πy $ and  $\\psi_1 = y \\sin 2πx  \\cosh 2πy$"
   ]
  },
  {
   "cell_type": "code",
   "execution_count": 1,
   "metadata": {},
   "outputs": [],
   "source": [
    "import sympy\n",
    "import math\n",
    "import numpy as np"
   ]
  },
  {
   "cell_type": "markdown",
   "metadata": {},
   "source": [
    "## Symbolic approach"
   ]
  },
  {
   "cell_type": "code",
   "execution_count": 2,
   "metadata": {},
   "outputs": [
    {
     "data": {
      "text/latex": [
       "$\\displaystyle A \\sin{\\left(k x \\right)} \\cosh{\\left(k y \\right)} + B \\sin{\\left(k x \\right)} \\sinh{\\left(k y \\right)}$"
      ],
      "text/plain": [
       "A*sin(k*x)*cosh(k*y) + B*sin(k*x)*sinh(k*y)"
      ]
     },
     "execution_count": 2,
     "metadata": {},
     "output_type": "execute_result"
    }
   ],
   "source": [
    "from sympy.core.symbol import Symbol\n",
    "from sympy.core.function import Function\n",
    "\n",
    "x       = Symbol('x')\n",
    "y       = Symbol('y')\n",
    "k       = Symbol('k', positive=True)\n",
    "\n",
    "A       = Symbol('A')\n",
    "B       = Symbol('B')\n",
    "C       = Symbol('C')\n",
    "D       = Symbol('D')\n",
    "\n",
    "Ra      = Symbol('Ra', positive=True)\n",
    "psi     = Function('psi')\n",
    "T       = Function('T')\n",
    "\n",
    "# Potential solution\n",
    "\n",
    "PSI1 = A * sympy.sin(k*x) * sympy.cosh(k*y) + B * sympy.sin(k*x) * sympy.sinh(k*y) \n",
    "PSI1"
   ]
  },
  {
   "cell_type": "markdown",
   "metadata": {},
   "source": [
    "Define the biharmonic operator and the biharmonic equation"
   ]
  },
  {
   "cell_type": "code",
   "execution_count": 3,
   "metadata": {},
   "outputs": [],
   "source": [
    "BH = psi(x,y).diff(x,4) + psi(x,y).diff((x,2),(y,2)) + psi(x,y).diff(y,4) \n",
    "eq1=sympy.Eq(BH, 0)\n",
    "eq2=sympy.Eq(BH, Ra*T(x,y).diff(x))"
   ]
  },
  {
   "cell_type": "markdown",
   "metadata": {},
   "source": [
    "Substitute the potential solution and verify that it is an eigenfunction of $\\nabla^4$"
   ]
  },
  {
   "cell_type": "code",
   "execution_count": 4,
   "metadata": {},
   "outputs": [],
   "source": [
    "BH1 = BH.replace(psi(x,y), PSI1)\n",
    "# This is too complicated to simplify in this form ... (try it !)\n",
    "# BH1.simplify()"
   ]
  },
  {
   "cell_type": "code",
   "execution_count": 5,
   "metadata": {},
   "outputs": [
    {
     "data": {
      "text/latex": [
       "$\\displaystyle k^{4}$"
      ],
      "text/plain": [
       "k**4"
      ]
     },
     "execution_count": 5,
     "metadata": {},
     "output_type": "execute_result"
    }
   ],
   "source": [
    "BH2 = BH1.doit().simplify()\n",
    "(BH2 / PSI1).simplify()"
   ]
  },
  {
   "cell_type": "markdown",
   "metadata": {},
   "source": [
    "There is another pair of solutions, $y * \\psi_0$"
   ]
  },
  {
   "cell_type": "code",
   "execution_count": 6,
   "metadata": {},
   "outputs": [
    {
     "data": {
      "text/latex": [
       "$\\displaystyle \\frac{k^{3} \\left(2 A \\sinh{\\left(k y \\right)} + 2 B \\cosh{\\left(k y \\right)} + k y \\left(A \\cosh{\\left(k y \\right)} + B \\sinh{\\left(k y \\right)}\\right)\\right)}{y \\left(A \\cosh{\\left(k y \\right)} + B \\sinh{\\left(k y \\right)}\\right)}$"
      ],
      "text/plain": [
       "k**3*(2*A*sinh(k*y) + 2*B*cosh(k*y) + k*y*(A*cosh(k*y) + B*sinh(k*y)))/(y*(A*cosh(k*y) + B*sinh(k*y)))"
      ]
     },
     "execution_count": 6,
     "metadata": {},
     "output_type": "execute_result"
    }
   ],
   "source": [
    "PSI2 = y * PSI1\n",
    "\n",
    "BH1 = BH.replace(psi(x,y), PSI2).doit().simplify()\n",
    "BH2 = BH1.doit().simplify()\n",
    "(BH2 / PSI2).simplify()"
   ]
  },
  {
   "cell_type": "markdown",
   "metadata": {},
   "source": [
    "These don't quite satisfy the equation on their own but it is possible to combine the four potential solutions to find a complete eigenfunction"
   ]
  },
  {
   "cell_type": "code",
   "execution_count": null,
   "metadata": {},
   "outputs": [],
   "source": []
  }
 ],
 "metadata": {
  "jupytext": {
   "text_representation": {
    "extension": ".md",
    "format_name": "myst",
    "format_version": 0.12,
    "jupytext_version": "1.6.0"
   }
  },
  "kernelspec": {
   "display_name": "Python 3",
   "language": "python",
   "name": "python3"
  },
  "language_info": {
   "codemirror_mode": {
    "name": "ipython",
    "version": 3
   },
   "file_extension": ".py",
   "mimetype": "text/x-python",
   "name": "python",
   "nbconvert_exporter": "python",
   "pygments_lexer": "ipython3",
   "version": "3.7.8"
  },
  "source_map": [
   12,
   30,
   34,
   38,
   59,
   63,
   67,
   71,
   77,
   80,
   84,
   90,
   94
  ]
 },
 "nbformat": 4,
 "nbformat_minor": 4
}