{
 "cells": [
  {
   "cell_type": "markdown",
   "metadata": {},
   "source": [
    "## Age of the oceans / depth of the oceans"
   ]
  },
  {
   "cell_type": "code",
   "execution_count": null,
   "metadata": {},
   "outputs": [],
   "source": [
    "## This is a worked example for stripy if we don't use litho1.0 information\n",
    "\n",
    "import litho1pt0 as litho1pt0\n",
    "import stripy\n",
    "import numpy as np\n",
    "\n",
    "import gdal\n",
    "import cartopy\n",
    "import cartopy.crs as ccrs"
   ]
  },
  {
   "cell_type": "code",
   "execution_count": null,
   "metadata": {},
   "outputs": [],
   "source": [
    "%matplotlib inline\n",
    "import matplotlib.pyplot as plt"
   ]
  },
  {
   "cell_type": "code",
   "execution_count": null,
   "metadata": {
    "hide_input": false
   },
   "outputs": [],
   "source": [
    "even_mesh = stripy.spherical_meshes.icosahedral_mesh(include_face_points=True, tree=True, refinement_levels=2)\n",
    "number_of_mesh_points = even_mesh.npoints"
   ]
  },
  {
   "cell_type": "code",
   "execution_count": null,
   "metadata": {},
   "outputs": [],
   "source": [
    "latitudes_in_radians = even_mesh.lats\n",
    "latitudes_in_degrees = np.degrees(latitudes_in_radians) \n",
    "\n",
    "longitudes_in_radians = even_mesh.lons \n",
    "longitudes_in_degrees = np.degrees(longitudes_in_radians)%360.0 - 180.0"
   ]
  },
  {
   "cell_type": "code",
   "execution_count": null,
   "metadata": {},
   "outputs": [],
   "source": [
    "## Obtain bathymetry information from the ETOPO1 dataset and store in numpy image format\n",
    "\n",
    "gtiff = gdal.Open(\"../../../Data/Resources/ETOPO1_Ice_c_geotiff.tif\")\n",
    "# width = gtiff.RasterXSize\n",
    "# height = gtiff.RasterYSize\n",
    "# gt = gtiff.GetGeoTransform()\n",
    "img = gtiff.GetRasterBand(1).ReadAsArray().T\n",
    "img = np.fliplr(img)"
   ]
  },
  {
   "cell_type": "code",
   "execution_count": null,
   "metadata": {},
   "outputs": [],
   "source": [
    "## Obtain the age data and store in img format\n",
    "\n",
    "datasize = (1801, 3601, 3)\n",
    "age_data = np.empty(datasize)\n",
    "\n",
    "ages = np.load(\"Data/global_age_data.3.6.z.npz\")[\"ageData\"]\n",
    "ages[np.isnan(ages)] = -1000.0\n",
    "ages = (np.fliplr(ages.T))"
   ]
  },
  {
   "cell_type": "code",
   "execution_count": null,
   "metadata": {},
   "outputs": [],
   "source": [
    "## Map heights to the sample grid points\n",
    "\n",
    "def map_raster_to_mesh(mesh, raster):\n",
    "\n",
    "    latitudes_in_radians  = mesh.lats\n",
    "    longitudes_in_radians = mesh.lons \n",
    "    latitudes_in_degrees  = np.degrees(latitudes_in_radians) \n",
    "    longitudes_in_degrees = np.degrees(longitudes_in_radians)%360.0 - 180.0\n",
    "\n",
    "    dlons = np.mod(longitudes_in_degrees+180.0, 360.0)\n",
    "    dlats = np.mod(latitudes_in_degrees+90, 180.0)\n",
    "\n",
    "    ilons = raster.shape[0] * dlons / 360.0\n",
    "    ilats = raster.shape[1] * dlats / 180.0\n",
    "\n",
    "    icoords = np.array((ilons, ilats))\n",
    "\n",
    "    from scipy import ndimage\n",
    "\n",
    "    mvals = ndimage.map_coordinates(raster, icoords , order=3, mode='nearest').astype(np.float)\n",
    "    \n",
    "    return mvals\n"
   ]
  },
  {
   "cell_type": "code",
   "execution_count": null,
   "metadata": {},
   "outputs": [],
   "source": [
    "meshheights = map_raster_to_mesh(even_mesh, img)\n",
    "meshages    = map_raster_to_mesh(even_mesh, ages)"
   ]
  },
  {
   "cell_type": "code",
   "execution_count": null,
   "metadata": {},
   "outputs": [],
   "source": [
    "## Improve the grid to be dense in the oceans, sparse elsewhere, then remap the data\n",
    "\n",
    "\n",
    "## If you refine the mesh to add new points / delete points on land etc, realise that you\n",
    "## will need to re-map the data to the new mesh. Maybe add a function for the remapping\n",
    "\n",
    "for i in range(0,3):\n",
    "    nodes_to_refine = np.where(meshheights < -1000)\n",
    "    allnodes = even_mesh.centroid_refine_triangulation_by_vertices(nodes_to_refine)\n",
    "    even_mesh = stripy.sTriangulation(allnodes[0], allnodes[1], tree=True)\n",
    "    meshheights = map_raster_to_mesh(even_mesh, img)\n",
    "    meshages    = map_raster_to_mesh(even_mesh, ages)\n",
    "    \n",
    "    latitudes_in_radians  = even_mesh.lats\n",
    "    longitudes_in_radians = even_mesh.lons \n",
    "    latitudes_in_degrees  = np.degrees(latitudes_in_radians) \n",
    "    longitudes_in_degrees = np.degrees(longitudes_in_radians)%360.0 - 180.0"
   ]
  },
  {
   "cell_type": "code",
   "execution_count": null,
   "metadata": {},
   "outputs": [],
   "source": [
    "## Now delete points on land etc\n",
    "\n",
    "valid = (meshages>0) & (meshages<180) & (meshheights<0.0)\n",
    "ocean_mesh = stripy.sTriangulation(even_mesh.lons[valid], even_mesh.lats[valid], tree=True)\n",
    "    \n",
    "meshheights = map_raster_to_mesh(ocean_mesh, img)\n",
    "meshages    = map_raster_to_mesh(ocean_mesh, ages)\n",
    "  \n",
    "latitudes_in_radians  = ocean_mesh.lats\n",
    "longitudes_in_radians = ocean_mesh.lons \n",
    "latitudes_in_degrees  = np.degrees(latitudes_in_radians) \n",
    "longitudes_in_degrees = np.degrees(longitudes_in_radians)%360.0 - 180.0"
   ]
  },
  {
   "cell_type": "code",
   "execution_count": null,
   "metadata": {},
   "outputs": [],
   "source": []
  },
  {
   "cell_type": "code",
   "execution_count": null,
   "metadata": {},
   "outputs": [],
   "source": []
  },
  {
   "cell_type": "code",
   "execution_count": null,
   "metadata": {},
   "outputs": [],
   "source": [
    "## Smooth mesh heights\n",
    "\n",
    "meshweights = (meshheights > 0.0) * 1.0 + 0.1\n",
    "\n",
    "# Smoothing \n",
    "smeshheights, sdx = ocean_mesh.smoothing(meshheights, meshweights, 1.0e8, 0.25, 0.0001)\n",
    "\n",
    "# This is not as smooth\n",
    "# smeshheights, sdx = ocean_mesh.smoothing(meshheights, meshweights, 1.0e7, 0.25, 0.0001)\n",
    "\n",
    "# This is also not as smooth\n",
    "# smeshheights, sdx = ocean_mesh.smoothing(meshheights, meshweights, 1.0e8, 0.75, 0.0001)\n",
    "\n",
    "\n",
    "\n",
    "print(\"Raw bathymetry min / max: {}/{}\".format(meshheights.min(), meshheights.max()))\n",
    "print(\"Smoothed min / max: {}/{}\".format(smeshheights.min(), smeshheights.max()))"
   ]
  },
  {
   "cell_type": "code",
   "execution_count": null,
   "metadata": {},
   "outputs": [],
   "source": [
    "## Is that sensible ?\n",
    "\n",
    "## Check the age / bathymetry / smoothed bathymetry by eye\n",
    "\n",
    "%matplotlib inline\n",
    "\n",
    "import cartopy\n",
    "import cartopy.crs as ccrs\n",
    "import matplotlib.pyplot as plt\n",
    "\n",
    "global_extent     = [-180.0, 180.0, -89, 89]\n",
    "\n",
    "projection0 = ccrs.PlateCarree()\n",
    "projection1 = ccrs.Orthographic(central_longitude=140.0, central_latitude=0.0, globe=None)\n",
    "projection2 = ccrs.Mollweide()\n",
    "projection3 = ccrs.Robinson()\n",
    "\n",
    "fig = plt.figure(figsize=(12, 12), facecolor=\"none\")\n",
    "ax  = plt.subplot(111, projection=projection2)\n",
    "ax.set_global()\n",
    "\n",
    "colormap = plt.cm.get_cmap('RdYlBu_r', 10)\n",
    "\n",
    "# m = ax.scatter(longitudes_in_degrees, latitudes_in_degrees, \n",
    "#                c=meshages, cmap=colormap, vmin=0.0, vmax=180.0,\n",
    "#                s=10.0, transform=ccrs.Geodetic())\n",
    "\n",
    "m = ax.scatter(longitudes_in_degrees, latitudes_in_degrees, \n",
    "               c=smeshheights, cmap=colormap, vmin=-6000, vmax=-500.0,\n",
    "               s=10.0, transform=ccrs.Geodetic())\n",
    "\n",
    "\n",
    "\n",
    "plt.colorbar(mappable=m, orientation=\"horizontal\", shrink=0.5)\n",
    "ax.coastlines(resolution=\"50m\", zorder=100, linewidth=0.5)"
   ]
  },
  {
   "cell_type": "code",
   "execution_count": null,
   "metadata": {},
   "outputs": [],
   "source": [
    "fig = plt.figure(figsize=(12, 12), facecolor=\"none\")\n",
    "ax  = plt.subplot(111)\n",
    "ax.scatter(meshages, smeshheights,s=5.0)\n",
    "ax.scatter(meshages, meshheights,s=1.5)\n",
    "ax.set_xlim([0.0,200.0])\n",
    "ax.set_ylim([-8000.0,200.0])\n",
    "pass"
   ]
  },
  {
   "cell_type": "code",
   "execution_count": null,
   "metadata": {},
   "outputs": [],
   "source": [
    "## Use scipy optimize to fit this data to  h = a + sqrt(b * age)\n",
    "\n",
    "from scipy import optimize\n",
    "\n",
    "def depth_age_fn(age, p1, p2):\n",
    "    return p1 + p2 * np.sqrt(age)\n",
    "\n",
    "\n",
    "print(\"Curve fit\")\n",
    "valid = (meshages>0) & (meshages<70) & (meshheights<0.0)\n",
    "popt, pcov = optimize.curve_fit(depth_age_fn, meshages[valid], meshheights[valid] )\n",
    "print(\"Curve fit for smoothed values\")\n",
    "valid = (meshages>0) & (meshages<70) & (meshheights<0.0)\n",
    "popts, pcovs = optimize.curve_fit(depth_age_fn, meshages[valid], smeshheights[valid], method=\"lm\" )"
   ]
  },
  {
   "cell_type": "code",
   "execution_count": null,
   "metadata": {},
   "outputs": [],
   "source": [
    "ages = np.linspace(0.0,150.0, 100)\n",
    "depths = depth_age_fn(ages, popt[0],popt[1])\n",
    "depthss = depth_age_fn(ages, popts[0],popts[1])"
   ]
  },
  {
   "cell_type": "code",
   "execution_count": null,
   "metadata": {},
   "outputs": [],
   "source": [
    "fig = plt.figure(figsize=(12, 12), facecolor=\"none\")\n",
    "ax  = plt.subplot(111)\n",
    "ax.scatter(meshages, smeshheights,s=1.0, c=\"Red\")\n",
    "ax.scatter(meshages, meshheights,s=0.5, c=\"Blue\")\n",
    "ax.plot(ages, depths, linewidth=3.0, c=\"Blue\")\n",
    "ax.plot(ages, depthss, linewidth=2.0, c=\"Red\")\n",
    "ax.set_xlim([0.0,200.0])\n",
    "ax.set_ylim([-8000.0,200.0])"
   ]
  },
  {
   "cell_type": "code",
   "execution_count": null,
   "metadata": {},
   "outputs": [],
   "source": []
  },
  {
   "cell_type": "code",
   "execution_count": null,
   "metadata": {},
   "outputs": [],
   "source": []
  }
 ],
 "metadata": {
  "jupytext": {
   "text_representation": {
    "extension": ".md",
    "format_name": "myst",
    "format_version": 0.12,
    "jupytext_version": "1.6.0"
   }
  },
  "kernelspec": {
   "display_name": "Python 3",
   "language": "python",
   "name": "python3"
  },
  "source_map": [
   12,
   19,
   31,
   36,
   43,
   51,
   62,
   73,
   99,
   104,
   124,
   139,
   143,
   147,
   167,
   205,
   215,
   232,
   238,
   249,
   253
  ]
 },
 "nbformat": 4,
 "nbformat_minor": 4
}